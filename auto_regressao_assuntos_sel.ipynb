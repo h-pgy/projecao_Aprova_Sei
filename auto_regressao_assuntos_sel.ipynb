{
 "cells": [
  {
   "cell_type": "markdown",
   "metadata": {},
   "source": [
    "#  Projeção - Integração Aprova  Digital e SEI\n",
    "#### _Autor_ : Henrique Pougy\n",
    "\n",
    "### Resumo:\n",
    "\n",
    "        Este notebook tem por objetivo subsidiar a tomada de decisão sobre a alocação de recursos de infra-estrutura de TI para viabilizar a integração entre a ferramenta Aprova Digital - novo portal de licenciamento edilício da Prefeitura de Sâo Paulo - e o SEI, sistema de processo eletrônico do município.\n",
    "\n",
    "        São avaliadas duas dimensões:\n",
    "        \n",
    "        1. Projeção da volumetria de armazenamento necessária, ao longo do período de um ano;\n",
    "        2. Dimensionamento da quantidade de requisições diárias;\n",
    "        \n",
    "        Em ambos os casos, para construção das projeções, nos valemos de dados extraídos do sistema SELSISA. A partir de um webscrapper desenvolvido pelo autor (que não está presente neste repositório por razões de segurança), extraímos deste sistema a relação de assuntos relacionados ao licenciamento edilício protocolados na Secretaria de Licenciamento no período que vai de 01/01/2017 até o momento da extração, dia 07/07/2020. Esses dados foram então devidamente anonimizados, retendo apenas as variáveis absolutamente necessárias para a análise. Ao todo, foram processados mais de 35 mil protocolos, em um período de 4 anos, gerando uma análise bastante robusta.\n",
    "\n",
    "### Metodologia:\n",
    "    \n",
    "#### Volumetria\n",
    "\n",
    "        Para a construção do modelo preditivo para a volumetria foi empregado o método de Regressão Linear Simples. A variável independente considerada foi o número de dias passados desde 7 de julho de 2017, data de publicação do Decreto Nº 57.776, que regulamentou o novo Código de Obras do município. Como variável dependente ou \"alvo\", foi utilizada a quantidade acumulada de solicitações relacionadas ao licenciamento edilício protocoladas em SEL desde o dia 7 de julho de 2017.\n",
    "        O modelo assim construído foi então utilizado para prever a evolução da quantidade de solicitações abertas no Aprova Digital no período de um ano após seu lançamento. A matriz resultante da previsão do modelo foi multiplicada então pelos valores escalares correspondentes, respectivamente, à volumetria média dos processos SEI da Secretaria de Licenciamento no Aprova Rápido, em bytes.\n",
    "        Para facilitar a gestão dessa volumetria, a projeção foi dividida em períodos cumulativos de 30 dias, que representam a volumetria necessária prevista para cada mês, expressa em GigaBytes - possibilitando uma contratação mais precisa e eficiente.\n",
    "        \n",
    "#### Quantidade de Requisições\n",
    "\n",
    "        Para modelar a quantidade de requisições, nos debruçamos sobre a série temporal que descreve a quantidade de solicitações com assuntos relacionados ao licenciamento edilício protocoladas por dia na Secretaria de Licenciamento desde 7 de julho de 2017. Identificamos que essa série temporal possui clara sazonalidade, permanecendo, com exceção de poucos outliers, em um padrão claro. Analisamos a distribuição e a testamos para normalidade, rejeitando a hipótese nula de que a distribuição não é normal com extrema significância estatística. Neste cenário, concluímos sobre a adequação de se utilizar medidas de centralidade para prever a quantidade de requisições diárias que serão realizadas pelo Aprova Digital ao SEI (especificamente, a média).\n",
    "        \n",
    "### Resultados:\n",
    "\n",
    "        Nas células abaixo mostramos os resultados das projeções:"
   ]
  },
  {
   "cell_type": "code",
   "execution_count": 57,
   "metadata": {},
   "outputs": [
    {
     "data": {
      "text/html": [
       "<div>\n",
       "<style scoped>\n",
       "    .dataframe tbody tr th:only-of-type {\n",
       "        vertical-align: middle;\n",
       "    }\n",
       "\n",
       "    .dataframe tbody tr th {\n",
       "        vertical-align: top;\n",
       "    }\n",
       "\n",
       "    .dataframe thead th {\n",
       "        text-align: right;\n",
       "    }\n",
       "</style>\n",
       "<table border=\"1\" class=\"dataframe\">\n",
       "  <thead>\n",
       "    <tr style=\"text-align: right;\">\n",
       "      <th></th>\n",
       "      <th>dias_passados_lançamento</th>\n",
       "      <th>tamanho_medio_inicial_GB</th>\n",
       "      <th>tamanho_medio_apos_analise_GB</th>\n",
       "    </tr>\n",
       "  </thead>\n",
       "  <tbody>\n",
       "    <tr>\n",
       "      <td>30</td>\n",
       "      <td>30</td>\n",
       "      <td>33.422231</td>\n",
       "      <td>53.468351</td>\n",
       "    </tr>\n",
       "    <tr>\n",
       "      <td>60</td>\n",
       "      <td>60</td>\n",
       "      <td>66.844462</td>\n",
       "      <td>106.936701</td>\n",
       "    </tr>\n",
       "    <tr>\n",
       "      <td>90</td>\n",
       "      <td>90</td>\n",
       "      <td>100.266692</td>\n",
       "      <td>160.405052</td>\n",
       "    </tr>\n",
       "    <tr>\n",
       "      <td>120</td>\n",
       "      <td>120</td>\n",
       "      <td>133.688923</td>\n",
       "      <td>213.873402</td>\n",
       "    </tr>\n",
       "    <tr>\n",
       "      <td>150</td>\n",
       "      <td>150</td>\n",
       "      <td>167.111154</td>\n",
       "      <td>267.341753</td>\n",
       "    </tr>\n",
       "    <tr>\n",
       "      <td>180</td>\n",
       "      <td>180</td>\n",
       "      <td>200.533385</td>\n",
       "      <td>320.810104</td>\n",
       "    </tr>\n",
       "    <tr>\n",
       "      <td>210</td>\n",
       "      <td>210</td>\n",
       "      <td>233.955615</td>\n",
       "      <td>374.278454</td>\n",
       "    </tr>\n",
       "    <tr>\n",
       "      <td>240</td>\n",
       "      <td>240</td>\n",
       "      <td>267.377846</td>\n",
       "      <td>427.746805</td>\n",
       "    </tr>\n",
       "    <tr>\n",
       "      <td>270</td>\n",
       "      <td>270</td>\n",
       "      <td>300.800077</td>\n",
       "      <td>481.215155</td>\n",
       "    </tr>\n",
       "    <tr>\n",
       "      <td>300</td>\n",
       "      <td>300</td>\n",
       "      <td>334.222308</td>\n",
       "      <td>534.683506</td>\n",
       "    </tr>\n",
       "    <tr>\n",
       "      <td>330</td>\n",
       "      <td>330</td>\n",
       "      <td>367.644538</td>\n",
       "      <td>588.151856</td>\n",
       "    </tr>\n",
       "    <tr>\n",
       "      <td>360</td>\n",
       "      <td>360</td>\n",
       "      <td>401.066769</td>\n",
       "      <td>641.620207</td>\n",
       "    </tr>\n",
       "  </tbody>\n",
       "</table>\n",
       "</div>"
      ],
      "text/plain": [
       "     dias_passados_lançamento  tamanho_medio_inicial_GB  \\\n",
       "30                         30                 33.422231   \n",
       "60                         60                 66.844462   \n",
       "90                         90                100.266692   \n",
       "120                       120                133.688923   \n",
       "150                       150                167.111154   \n",
       "180                       180                200.533385   \n",
       "210                       210                233.955615   \n",
       "240                       240                267.377846   \n",
       "270                       270                300.800077   \n",
       "300                       300                334.222308   \n",
       "330                       330                367.644538   \n",
       "360                       360                401.066769   \n",
       "\n",
       "     tamanho_medio_apos_analise_GB  \n",
       "30                       53.468351  \n",
       "60                      106.936701  \n",
       "90                      160.405052  \n",
       "120                     213.873402  \n",
       "150                     267.341753  \n",
       "180                     320.810104  \n",
       "210                     374.278454  \n",
       "240                     427.746805  \n",
       "270                     481.215155  \n",
       "300                     534.683506  \n",
       "330                     588.151856  \n",
       "360                     641.620207  "
      ]
     },
     "execution_count": 57,
     "metadata": {},
     "output_type": "execute_result"
    }
   ],
   "source": [
    "projecao_volumetria_mes_gb"
   ]
  },
  {
   "cell_type": "code",
   "execution_count": 58,
   "metadata": {},
   "outputs": [
    {
     "data": {
      "text/html": [
       "<div>\n",
       "<style scoped>\n",
       "    .dataframe tbody tr th:only-of-type {\n",
       "        vertical-align: middle;\n",
       "    }\n",
       "\n",
       "    .dataframe tbody tr th {\n",
       "        vertical-align: top;\n",
       "    }\n",
       "\n",
       "    .dataframe thead th {\n",
       "        text-align: right;\n",
       "    }\n",
       "</style>\n",
       "<table border=\"1\" class=\"dataframe\">\n",
       "  <thead>\n",
       "    <tr style=\"text-align: right;\">\n",
       "      <th></th>\n",
       "      <th>Quantidade de Requisições</th>\n",
       "    </tr>\n",
       "  </thead>\n",
       "  <tbody>\n",
       "    <tr>\n",
       "      <td>média</td>\n",
       "      <td>36.22101</td>\n",
       "    </tr>\n",
       "    <tr>\n",
       "      <td>25%</td>\n",
       "      <td>29.00000</td>\n",
       "    </tr>\n",
       "    <tr>\n",
       "      <td>75%</td>\n",
       "      <td>45.00000</td>\n",
       "    </tr>\n",
       "    <tr>\n",
       "      <td>max</td>\n",
       "      <td>105.00000</td>\n",
       "    </tr>\n",
       "    <tr>\n",
       "      <td>mediana</td>\n",
       "      <td>36.00000</td>\n",
       "    </tr>\n",
       "  </tbody>\n",
       "</table>\n",
       "</div>"
      ],
      "text/plain": [
       "         Quantidade de Requisições\n",
       "média                     36.22101\n",
       "25%                       29.00000\n",
       "75%                       45.00000\n",
       "max                      105.00000\n",
       "mediana                   36.00000"
      ]
     },
     "execution_count": 58,
     "metadata": {},
     "output_type": "execute_result"
    }
   ],
   "source": [
    "quantidade_de_requisicoes"
   ]
  },
  {
   "cell_type": "markdown",
   "metadata": {},
   "source": [
    "## Seção 1 - Data Munging\n",
    "\n",
    "    Nesta seção carregamos os dados para nosso ambiente de análise, os limpamos e os formatamos corretamente. Em seguida, criamos nova variáveis e fazemos agregações, gerando a base de dados sobre a qual será realizada nossa análise exploratória. Esse processo é conhecido como \"data munging\". "
   ]
  },
  {
   "cell_type": "markdown",
   "metadata": {},
   "source": [
    "Abaixo importamos as bibliotecas necessárias para a análise, assim como configuramos o notebook."
   ]
  },
  {
   "cell_type": "code",
   "execution_count": 3,
   "metadata": {},
   "outputs": [],
   "source": [
    "import pandas as pd\n",
    "import os\n",
    "from pandas.plotting import lag_plot, autocorrelation_plot\n",
    "import seaborn as sns\n",
    "sns.set()\n",
    "%matplotlib inline"
   ]
  },
  {
   "cell_type": "markdown",
   "metadata": {},
   "source": [
    "Em seguida, realizamos a leitura da fonte de dados original. \n",
    "\n",
    "Segue o dicionário de variáveis:\n",
    "\n",
    "> _Assunto_ : assunto, relacionado ao licenciamento edilício, da solicitação que foi protocolada pelo munícipe (por exemplo: apostilamento de seu alvará de aprovação e execução);\n",
    "\n",
    "> _Data inclusão_ : data em que este assunto foi incluído no processo administrativo, ou seja, data em que a solicitação protocolada pelo munícipe foi recebida pela Secretaria de Licenciamento\n",
    "\n",
    "\n",
    "Após inspecionarmos o dataframe resultante, notando que ele contém colunas indesejadas (\"Unnamed: 0\", que corresponde ao índice do arquivo de excel), assim como data types incorretos (a coluna \"Data inclusão\" está como object, ou \"texto\", ao invés de datetime, ou \"data\").\n",
    "\n",
    "Esses problemas são corrigidos em seguida."
   ]
  },
  {
   "cell_type": "code",
   "execution_count": 4,
   "metadata": {},
   "outputs": [],
   "source": [
    "df = pd.read_excel('assuntos_protocolados_2017_2020_anonimo.xlsx')"
   ]
  },
  {
   "cell_type": "code",
   "execution_count": 5,
   "metadata": {},
   "outputs": [
    {
     "data": {
      "text/html": [
       "<div>\n",
       "<style scoped>\n",
       "    .dataframe tbody tr th:only-of-type {\n",
       "        vertical-align: middle;\n",
       "    }\n",
       "\n",
       "    .dataframe tbody tr th {\n",
       "        vertical-align: top;\n",
       "    }\n",
       "\n",
       "    .dataframe thead th {\n",
       "        text-align: right;\n",
       "    }\n",
       "</style>\n",
       "<table border=\"1\" class=\"dataframe\">\n",
       "  <thead>\n",
       "    <tr style=\"text-align: right;\">\n",
       "      <th></th>\n",
       "      <th>Unnamed: 0</th>\n",
       "      <th>Assunto</th>\n",
       "      <th>Data inclusão</th>\n",
       "    </tr>\n",
       "  </thead>\n",
       "  <tbody>\n",
       "    <tr>\n",
       "      <td>0</td>\n",
       "      <td>0</td>\n",
       "      <td>001-0 - DIRETRIZES DE PROJETO</td>\n",
       "      <td>26/09/2017</td>\n",
       "    </tr>\n",
       "    <tr>\n",
       "      <td>1</td>\n",
       "      <td>1</td>\n",
       "      <td>004-1 - APOSTILAMENTO DE ALVARA DE APROVACAO D...</td>\n",
       "      <td>19/03/2019</td>\n",
       "    </tr>\n",
       "    <tr>\n",
       "      <td>2</td>\n",
       "      <td>2</td>\n",
       "      <td>004-5 - RECONSIDERACAO DE DESPACHO DE ALVARA D...</td>\n",
       "      <td>23/01/2019</td>\n",
       "    </tr>\n",
       "    <tr>\n",
       "      <td>3</td>\n",
       "      <td>3</td>\n",
       "      <td>004-1 - APOSTILAMENTO DE ALVARA DE APROVACAO D...</td>\n",
       "      <td>21/01/2019</td>\n",
       "    </tr>\n",
       "    <tr>\n",
       "      <td>4</td>\n",
       "      <td>4</td>\n",
       "      <td>004-1 - APOSTILAMENTO DE ALVARA DE APROVACAO D...</td>\n",
       "      <td>21/01/2019</td>\n",
       "    </tr>\n",
       "  </tbody>\n",
       "</table>\n",
       "</div>"
      ],
      "text/plain": [
       "   Unnamed: 0                                            Assunto Data inclusão\n",
       "0           0                      001-0 - DIRETRIZES DE PROJETO    26/09/2017\n",
       "1           1  004-1 - APOSTILAMENTO DE ALVARA DE APROVACAO D...    19/03/2019\n",
       "2           2  004-5 - RECONSIDERACAO DE DESPACHO DE ALVARA D...    23/01/2019\n",
       "3           3  004-1 - APOSTILAMENTO DE ALVARA DE APROVACAO D...    21/01/2019\n",
       "4           4  004-1 - APOSTILAMENTO DE ALVARA DE APROVACAO D...    21/01/2019"
      ]
     },
     "execution_count": 5,
     "metadata": {},
     "output_type": "execute_result"
    }
   ],
   "source": [
    "df.head()"
   ]
  },
  {
   "cell_type": "code",
   "execution_count": 6,
   "metadata": {},
   "outputs": [
    {
     "data": {
      "text/html": [
       "<div>\n",
       "<style scoped>\n",
       "    .dataframe tbody tr th:only-of-type {\n",
       "        vertical-align: middle;\n",
       "    }\n",
       "\n",
       "    .dataframe tbody tr th {\n",
       "        vertical-align: top;\n",
       "    }\n",
       "\n",
       "    .dataframe thead th {\n",
       "        text-align: right;\n",
       "    }\n",
       "</style>\n",
       "<table border=\"1\" class=\"dataframe\">\n",
       "  <thead>\n",
       "    <tr style=\"text-align: right;\">\n",
       "      <th></th>\n",
       "      <th>0</th>\n",
       "    </tr>\n",
       "  </thead>\n",
       "  <tbody>\n",
       "    <tr>\n",
       "      <td>Unnamed: 0</td>\n",
       "      <td>int64</td>\n",
       "    </tr>\n",
       "    <tr>\n",
       "      <td>Assunto</td>\n",
       "      <td>object</td>\n",
       "    </tr>\n",
       "    <tr>\n",
       "      <td>Data inclusão</td>\n",
       "      <td>object</td>\n",
       "    </tr>\n",
       "  </tbody>\n",
       "</table>\n",
       "</div>"
      ],
      "text/plain": [
       "                    0\n",
       "Unnamed: 0      int64\n",
       "Assunto        object\n",
       "Data inclusão  object"
      ]
     },
     "execution_count": 6,
     "metadata": {},
     "output_type": "execute_result"
    }
   ],
   "source": [
    "pd.DataFrame(df.dtypes)"
   ]
  },
  {
   "cell_type": "markdown",
   "metadata": {},
   "source": [
    "Abaixo, excluímos a coluna indesejada e em seguida criamos uma nova coluna, que contém a data de protocolação do assunto com "
   ]
  },
  {
   "cell_type": "code",
   "execution_count": 7,
   "metadata": {},
   "outputs": [],
   "source": [
    "df.drop('Unnamed: 0', axis = 1, inplace = True)\n",
    "df['dt_inclusao'] = pd.to_datetime(df['Data inclusão'], format = '%d/%m/%Y')"
   ]
  },
  {
   "cell_type": "markdown",
   "metadata": {},
   "source": [
    "Após análise exploratória prévia, notamos que assuntos relacionados à regularização, também conhecida como \"Lei da Anistia\", estão presentes em nossa base de dados. Esses assuntos não comporão o escopo do Aprova Digital, portanto, são removidos da base."
   ]
  },
  {
   "cell_type": "code",
   "execution_count": 8,
   "metadata": {},
   "outputs": [],
   "source": [
    "#aqui selecionamos os assuntos que contem a palavra \"regularização\"\n",
    "regularizacao = [assunto for assunto in df['Assunto'].unique()\n",
    "                if 'REGULARIZACAO' in assunto] "
   ]
  },
  {
   "cell_type": "code",
   "execution_count": 9,
   "metadata": {},
   "outputs": [
    {
     "data": {
      "text/plain": [
       "['013-0 - CERTIFICADO DE REGULARIZACAO',\n",
       " '013-5 - RECONSIDERACAO DE DESPACHO DE CERTIFICADO DE REGULARIZACAO',\n",
       " '013-1 - APOSTILAMENTO DE CERTIFICADO DE REGULARIZACAO',\n",
       " '047-5 - RECONSIDERACAO DE DESPACHO DE AUTO DE REGULARIZACAO DE PARCELAMENTO DO SOLO',\n",
       " '064-1 - APOSTILAMENTO DE AUTO DE REGULARIZACAO',\n",
       " '064-0 - AUTO DE REGULARIZACAO',\n",
       " '064-5 - RECONSIDERACAO DE DESPACHO DE AUTO DE REGULARIZACAO',\n",
       " '070-1 - APOSTILAMENTO DE AUTO DE REGULARIZACAO LEI N:13.558/2003',\n",
       " '070-5 - RECONSIDERACAO DO DESPACHO DE AUTO DE REGULARIZACAO LEI N:13.558/2003',\n",
       " '070-0 - AUTO DE REGULARIZACAO LEI N:13.558/2003']"
      ]
     },
     "execution_count": 9,
     "metadata": {},
     "output_type": "execute_result"
    }
   ],
   "source": [
    "regularizacao"
   ]
  },
  {
   "cell_type": "code",
   "execution_count": 10,
   "metadata": {},
   "outputs": [],
   "source": [
    "#aqui filtramos o dataframe, removendo as protocolações destes assuntos\n",
    "df = df[~df['Assunto'].isin(regularizacao)].copy().reset_index(drop = True) "
   ]
  },
  {
   "cell_type": "markdown",
   "metadata": {},
   "source": [
    "Caso inspecionemos os dados, notaremos que eles se iniciam em 03/01 de 2017, antes da publicação do decreto que regula o novo código de obras.\n",
    "Sob outra legislação, esses assuntos não são exatamente comensuráveis aos atuais. Por isso, os removeremos."
   ]
  },
  {
   "cell_type": "code",
   "execution_count": 11,
   "metadata": {},
   "outputs": [],
   "source": [
    "df.sort_values(by = 'dt_inclusao', inplace = True)"
   ]
  },
  {
   "cell_type": "code",
   "execution_count": 12,
   "metadata": {},
   "outputs": [
    {
     "data": {
      "text/html": [
       "<div>\n",
       "<style scoped>\n",
       "    .dataframe tbody tr th:only-of-type {\n",
       "        vertical-align: middle;\n",
       "    }\n",
       "\n",
       "    .dataframe tbody tr th {\n",
       "        vertical-align: top;\n",
       "    }\n",
       "\n",
       "    .dataframe thead th {\n",
       "        text-align: right;\n",
       "    }\n",
       "</style>\n",
       "<table border=\"1\" class=\"dataframe\">\n",
       "  <thead>\n",
       "    <tr style=\"text-align: right;\">\n",
       "      <th></th>\n",
       "      <th>Assunto</th>\n",
       "      <th>Data inclusão</th>\n",
       "      <th>dt_inclusao</th>\n",
       "    </tr>\n",
       "  </thead>\n",
       "  <tbody>\n",
       "    <tr>\n",
       "      <td>9127</td>\n",
       "      <td>025-3 - REVALIDACAO DE ALVARA DE FUNCIONAMENTO...</td>\n",
       "      <td>03/01/2017</td>\n",
       "      <td>2017-01-03</td>\n",
       "    </tr>\n",
       "    <tr>\n",
       "      <td>2081</td>\n",
       "      <td>004-5 - RECONSIDERACAO DE DESPACHO DE ALVARA D...</td>\n",
       "      <td>03/01/2017</td>\n",
       "      <td>2017-01-03</td>\n",
       "    </tr>\n",
       "    <tr>\n",
       "      <td>17456</td>\n",
       "      <td>048-1 - APOSTILAMENTO DE ALVARA DE APROVACAO E...</td>\n",
       "      <td>03/01/2017</td>\n",
       "      <td>2017-01-03</td>\n",
       "    </tr>\n",
       "    <tr>\n",
       "      <td>17447</td>\n",
       "      <td>048-0 - ALVARA DE APROVACAO E EXECUCAO DE EDIF...</td>\n",
       "      <td>03/01/2017</td>\n",
       "      <td>2017-01-03</td>\n",
       "    </tr>\n",
       "    <tr>\n",
       "      <td>3593</td>\n",
       "      <td>007-0 - ALVARA DE EXECUCAO DE EDIFICACAO NOVA</td>\n",
       "      <td>03/01/2017</td>\n",
       "      <td>2017-01-03</td>\n",
       "    </tr>\n",
       "  </tbody>\n",
       "</table>\n",
       "</div>"
      ],
      "text/plain": [
       "                                                 Assunto Data inclusão  \\\n",
       "9127   025-3 - REVALIDACAO DE ALVARA DE FUNCIONAMENTO...    03/01/2017   \n",
       "2081   004-5 - RECONSIDERACAO DE DESPACHO DE ALVARA D...    03/01/2017   \n",
       "17456  048-1 - APOSTILAMENTO DE ALVARA DE APROVACAO E...    03/01/2017   \n",
       "17447  048-0 - ALVARA DE APROVACAO E EXECUCAO DE EDIF...    03/01/2017   \n",
       "3593       007-0 - ALVARA DE EXECUCAO DE EDIFICACAO NOVA    03/01/2017   \n",
       "\n",
       "      dt_inclusao  \n",
       "9127   2017-01-03  \n",
       "2081   2017-01-03  \n",
       "17456  2017-01-03  \n",
       "17447  2017-01-03  \n",
       "3593   2017-01-03  "
      ]
     },
     "execution_count": 12,
     "metadata": {},
     "output_type": "execute_result"
    }
   ],
   "source": [
    "df.head()"
   ]
  },
  {
   "cell_type": "code",
   "execution_count": 13,
   "metadata": {},
   "outputs": [],
   "source": [
    "data_public = pd.to_datetime('07/07/2017') #data da publicacao do decreto"
   ]
  },
  {
   "cell_type": "code",
   "execution_count": 14,
   "metadata": {},
   "outputs": [],
   "source": [
    "periodo_correto = df['dt_inclusao'] >= data_public"
   ]
  },
  {
   "cell_type": "code",
   "execution_count": 15,
   "metadata": {},
   "outputs": [],
   "source": [
    "df = df[periodo_correto].reset_index(drop=True) #aqui filtramos o dataframe o periodo correto"
   ]
  },
  {
   "cell_type": "markdown",
   "metadata": {},
   "source": [
    "Ordenamos os dados novamente pela data de inclusao da solicitação no processo administrativo e notamos que agora o período está correto."
   ]
  },
  {
   "cell_type": "code",
   "execution_count": 16,
   "metadata": {},
   "outputs": [
    {
     "data": {
      "text/html": [
       "<div>\n",
       "<style scoped>\n",
       "    .dataframe tbody tr th:only-of-type {\n",
       "        vertical-align: middle;\n",
       "    }\n",
       "\n",
       "    .dataframe tbody tr th {\n",
       "        vertical-align: top;\n",
       "    }\n",
       "\n",
       "    .dataframe thead th {\n",
       "        text-align: right;\n",
       "    }\n",
       "</style>\n",
       "<table border=\"1\" class=\"dataframe\">\n",
       "  <thead>\n",
       "    <tr style=\"text-align: right;\">\n",
       "      <th></th>\n",
       "      <th>Assunto</th>\n",
       "      <th>Data inclusão</th>\n",
       "      <th>dt_inclusao</th>\n",
       "    </tr>\n",
       "  </thead>\n",
       "  <tbody>\n",
       "    <tr>\n",
       "      <td>0</td>\n",
       "      <td>019-0 - CERTIFICADO DE SEGURANCA</td>\n",
       "      <td>07/07/2017</td>\n",
       "      <td>2017-07-07</td>\n",
       "    </tr>\n",
       "    <tr>\n",
       "      <td>26</td>\n",
       "      <td>048-5 - RECONSIDERACAO DESPACHO DE ALVARA DE A...</td>\n",
       "      <td>07/07/2017</td>\n",
       "      <td>2017-07-07</td>\n",
       "    </tr>\n",
       "    <tr>\n",
       "      <td>27</td>\n",
       "      <td>061-5 - RECONSIDERACAO DE DESPACHO DE ALVARA D...</td>\n",
       "      <td>07/07/2017</td>\n",
       "      <td>2017-07-07</td>\n",
       "    </tr>\n",
       "    <tr>\n",
       "      <td>28</td>\n",
       "      <td>048-5 - RECONSIDERACAO DESPACHO DE ALVARA DE A...</td>\n",
       "      <td>07/07/2017</td>\n",
       "      <td>2017-07-07</td>\n",
       "    </tr>\n",
       "    <tr>\n",
       "      <td>29</td>\n",
       "      <td>022-3 - REVALIDACAO DO ALVARA DE FUNCIONAMENTO...</td>\n",
       "      <td>07/07/2017</td>\n",
       "      <td>2017-07-07</td>\n",
       "    </tr>\n",
       "  </tbody>\n",
       "</table>\n",
       "</div>"
      ],
      "text/plain": [
       "                                              Assunto Data inclusão  \\\n",
       "0                    019-0 - CERTIFICADO DE SEGURANCA    07/07/2017   \n",
       "26  048-5 - RECONSIDERACAO DESPACHO DE ALVARA DE A...    07/07/2017   \n",
       "27  061-5 - RECONSIDERACAO DE DESPACHO DE ALVARA D...    07/07/2017   \n",
       "28  048-5 - RECONSIDERACAO DESPACHO DE ALVARA DE A...    07/07/2017   \n",
       "29  022-3 - REVALIDACAO DO ALVARA DE FUNCIONAMENTO...    07/07/2017   \n",
       "\n",
       "   dt_inclusao  \n",
       "0   2017-07-07  \n",
       "26  2017-07-07  \n",
       "27  2017-07-07  \n",
       "28  2017-07-07  \n",
       "29  2017-07-07  "
      ]
     },
     "execution_count": 16,
     "metadata": {},
     "output_type": "execute_result"
    }
   ],
   "source": [
    "df.sort_values(by='dt_inclusao', inplace = True)\n",
    "df.head() "
   ]
  },
  {
   "cell_type": "markdown",
   "metadata": {},
   "source": [
    "Agora a base de dados está \"limpa\". No entanto, para que possamos realizar nossa análise, será necessário ainda agrupar a quantidade de protocolações por dia - assim saberemos quantas solicitações com assuntos relacionados ao licenciamento foram protocolados por dia em SEL. Esse processo é realizado nas células abaixo. "
   ]
  },
  {
   "cell_type": "code",
   "execution_count": 17,
   "metadata": {},
   "outputs": [],
   "source": [
    "#criamos uma coluna com o nome \"quantidade\", iniciada em 1, pois neste formato cada linha equivale a uma protocolação\n",
    "df['quantidade'] = 1 "
   ]
  },
  {
   "cell_type": "code",
   "execution_count": 18,
   "metadata": {},
   "outputs": [],
   "source": [
    "protocolacao_assuntos = df.groupby('dt_inclusao').count()['quantidade'] #agrupamos pela quantidade de protocolacoes por dia"
   ]
  },
  {
   "cell_type": "code",
   "execution_count": 19,
   "metadata": {},
   "outputs": [
    {
     "data": {
      "text/html": [
       "<div>\n",
       "<style scoped>\n",
       "    .dataframe tbody tr th:only-of-type {\n",
       "        vertical-align: middle;\n",
       "    }\n",
       "\n",
       "    .dataframe tbody tr th {\n",
       "        vertical-align: top;\n",
       "    }\n",
       "\n",
       "    .dataframe thead th {\n",
       "        text-align: right;\n",
       "    }\n",
       "</style>\n",
       "<table border=\"1\" class=\"dataframe\">\n",
       "  <thead>\n",
       "    <tr style=\"text-align: right;\">\n",
       "      <th></th>\n",
       "      <th>quantidade</th>\n",
       "    </tr>\n",
       "    <tr>\n",
       "      <th>dt_inclusao</th>\n",
       "      <th></th>\n",
       "    </tr>\n",
       "  </thead>\n",
       "  <tbody>\n",
       "    <tr>\n",
       "      <td>2017-07-07</td>\n",
       "      <td>47</td>\n",
       "    </tr>\n",
       "    <tr>\n",
       "      <td>2017-07-11</td>\n",
       "      <td>49</td>\n",
       "    </tr>\n",
       "    <tr>\n",
       "      <td>2017-07-12</td>\n",
       "      <td>29</td>\n",
       "    </tr>\n",
       "    <tr>\n",
       "      <td>2017-07-13</td>\n",
       "      <td>34</td>\n",
       "    </tr>\n",
       "    <tr>\n",
       "      <td>2017-07-14</td>\n",
       "      <td>43</td>\n",
       "    </tr>\n",
       "  </tbody>\n",
       "</table>\n",
       "</div>"
      ],
      "text/plain": [
       "             quantidade\n",
       "dt_inclusao            \n",
       "2017-07-07           47\n",
       "2017-07-11           49\n",
       "2017-07-12           29\n",
       "2017-07-13           34\n",
       "2017-07-14           43"
      ]
     },
     "execution_count": 19,
     "metadata": {},
     "output_type": "execute_result"
    }
   ],
   "source": [
    "pd.DataFrame(protocolacao_assuntos).head()"
   ]
  },
  {
   "cell_type": "markdown",
   "metadata": {},
   "source": [
    "Com isso, temos nossos dados para a análise."
   ]
  },
  {
   "cell_type": "markdown",
   "metadata": {},
   "source": [
    "## Seção 2 - Análise exploratória e Feature Engineering\n",
    "\n",
    "        Nesta seção exploraremos os dados obtidos e, em seguida, criaremos novas variáveis.\n",
    "        \n",
    "        Iniciaremos por visualizar os dados gerados na seção anterior: o gráfico a seguir plota a quantidade de solicitações com assuntos relacionadas protocoladas em SEL em um dia (eixo Y) em função do dia do ano, em ordem crescente (eixo X).\n",
    "        \n",
    "        Como podemos notar, há sazonalidade nos dados, que parecem seguir um mesmo padrão ao longo dos quatro anos, com exceção de dois fatos notáveis:\n",
    "        \n",
    "        - Um pico pontual de solicitações protocoladas entre o final de 2018 e o início de 2019.\n",
    "        - Uma queda na quantidade geral de solicitações em 2020.\n"
   ]
  },
  {
   "cell_type": "code",
   "execution_count": 20,
   "metadata": {},
   "outputs": [
    {
     "data": {
      "text/plain": [
       "<matplotlib.axes._subplots.AxesSubplot at 0x1f7980fadc8>"
      ]
     },
     "execution_count": 20,
     "metadata": {},
     "output_type": "execute_result"
    },
    {
     "data": {
      "image/png": "[encoded data removed]",
      "text/plain": [
       "<Figure size 432x288 with 1 Axes>"
      ]
     },
     "metadata": {
      "needs_background": "light"
     },
     "output_type": "display_data"
    }
   ],
   "source": [
    "protocolacao_assuntos.plot(title = 'Solicitações Protocoladas por Dia')"
   ]
  },
  {
   "cell_type": "markdown",
   "metadata": {},
   "source": [
    "Caso ordenemos os dias pela quantidade de solicitações protocoladas, e inspecionemos os dados, podemos notar que o pico entre o final de 2018 e início de 2019 se trata do dia 19/12/2020, provavelmente motivado pela entrada da secretaria em recesso de natal.\n",
    "\n",
    "De todo modo, percebemos que ele é isolado, sendo que os outros dias com maiores quantidade de solicitação permanecem no padrão geral dos dados (menor que 80 solicitações)."
   ]
  },
  {
   "cell_type": "code",
   "execution_count": 21,
   "metadata": {},
   "outputs": [
    {
     "data": {
      "text/html": [
       "<div>\n",
       "<style scoped>\n",
       "    .dataframe tbody tr th:only-of-type {\n",
       "        vertical-align: middle;\n",
       "    }\n",
       "\n",
       "    .dataframe tbody tr th {\n",
       "        vertical-align: top;\n",
       "    }\n",
       "\n",
       "    .dataframe thead th {\n",
       "        text-align: right;\n",
       "    }\n",
       "</style>\n",
       "<table border=\"1\" class=\"dataframe\">\n",
       "  <thead>\n",
       "    <tr style=\"text-align: right;\">\n",
       "      <th></th>\n",
       "      <th>quantidade</th>\n",
       "    </tr>\n",
       "    <tr>\n",
       "      <th>dt_inclusao</th>\n",
       "      <th></th>\n",
       "    </tr>\n",
       "  </thead>\n",
       "  <tbody>\n",
       "    <tr>\n",
       "      <td>2018-12-19</td>\n",
       "      <td>105</td>\n",
       "    </tr>\n",
       "    <tr>\n",
       "      <td>2018-12-20</td>\n",
       "      <td>79</td>\n",
       "    </tr>\n",
       "    <tr>\n",
       "      <td>2020-01-17</td>\n",
       "      <td>78</td>\n",
       "    </tr>\n",
       "    <tr>\n",
       "      <td>2019-07-03</td>\n",
       "      <td>72</td>\n",
       "    </tr>\n",
       "    <tr>\n",
       "      <td>2018-07-13</td>\n",
       "      <td>70</td>\n",
       "    </tr>\n",
       "    <tr>\n",
       "      <td>2019-10-11</td>\n",
       "      <td>68</td>\n",
       "    </tr>\n",
       "    <tr>\n",
       "      <td>2018-10-25</td>\n",
       "      <td>67</td>\n",
       "    </tr>\n",
       "    <tr>\n",
       "      <td>2017-12-20</td>\n",
       "      <td>67</td>\n",
       "    </tr>\n",
       "    <tr>\n",
       "      <td>2019-11-18</td>\n",
       "      <td>66</td>\n",
       "    </tr>\n",
       "    <tr>\n",
       "      <td>2018-08-20</td>\n",
       "      <td>66</td>\n",
       "    </tr>\n",
       "  </tbody>\n",
       "</table>\n",
       "</div>"
      ],
      "text/plain": [
       "             quantidade\n",
       "dt_inclusao            \n",
       "2018-12-19          105\n",
       "2018-12-20           79\n",
       "2020-01-17           78\n",
       "2019-07-03           72\n",
       "2018-07-13           70\n",
       "2019-10-11           68\n",
       "2018-10-25           67\n",
       "2017-12-20           67\n",
       "2019-11-18           66\n",
       "2018-08-20           66"
      ]
     },
     "execution_count": 21,
     "metadata": {},
     "output_type": "execute_result"
    }
   ],
   "source": [
    "pd.DataFrame(protocolacao_assuntos).sort_values(by='quantidade', ascending = False).head(10)"
   ]
  },
  {
   "cell_type": "markdown",
   "metadata": {},
   "source": [
    "Outra forma de conceber esses dados, mais adequada ao problema que buscamos modelar, seria observá-los como valores acumulados.\n",
    "\n",
    "Nas células abaixo, construímos outra matriz contendo os valores acumulados por dia, e plotamos o gráfico que mostra a linha de tendência."
   ]
  },
  {
   "cell_type": "code",
   "execution_count": 22,
   "metadata": {},
   "outputs": [],
   "source": [
    "series = {}\n",
    "valor_acumul = 0\n",
    "for i, val in zip(protocolacao_assuntos.index, protocolacao_assuntos.values):\n",
    "    valor_acumul+=val\n",
    "    series[i] = valor_acumul"
   ]
  },
  {
   "cell_type": "code",
   "execution_count": 23,
   "metadata": {},
   "outputs": [],
   "source": [
    "protocol_assuntos_acumul = pd.Series(series)"
   ]
  },
  {
   "cell_type": "code",
   "execution_count": 24,
   "metadata": {},
   "outputs": [
    {
     "data": {
      "text/plain": [
       "<matplotlib.axes._subplots.AxesSubplot at 0x1f79757e908>"
      ]
     },
     "execution_count": 24,
     "metadata": {},
     "output_type": "execute_result"
    },
    {
     "data": {
      "image/png": "[encoded data removed]",
      "text/plain": [
       "<Figure size 432x288 with 1 Axes>"
      ]
     },
     "metadata": {
      "needs_background": "light"
     },
     "output_type": "display_data"
    }
   ],
   "source": [
    "protocol_assuntos_acumul.plot(title = 'Solicitações Protocoladas Acumulados por Dia')"
   ]
  },
  {
   "cell_type": "markdown",
   "metadata": {},
   "source": [
    "Como podemos ver no gráfico acima, o pico de solicitações em dezembro de 2018 não afetou a tendência geral.\n",
    "\n",
    "No entanto, há sim uma tendência de queda, que parece estar alcançando um platô, em 2020.\n",
    "\n",
    "Esta tendência pode ser explicada pela migração de certos assuntos para o Aprova Rápido."
   ]
  },
  {
   "cell_type": "markdown",
   "metadata": {},
   "source": [
    "Além disso, podemos notar que estes dados - que indicam a tendência de crescimento da quantidade acumulada de solicitações relacionadas ao licenciamento edilício em SEL - são muito mais significativos em relação ao problema que queremos modelar do que os dados anteriores, que nos permitem ver a sazonabilidade na protocolação de solicitação.\n",
    "\n",
    "Pois uma vez realizadas no Aprova Digital, as protocolação serão armazenadas em seu banco de dados. Essa tendência cumulativa linear positiva é a mesma que seguirá a volumetria de armazenamento do sistema.\n",
    "\n",
    "Neste sentido - e para que melhor possamos modelar o problema - na célula abaixo construímos uma nova matriz, que conterá duas dimensões:\n",
    "\n",
    "1. A quantidade de dias que se passaram desde a publicação do decreto que regula o código de obras;\n",
    "2. A quantidade acumulada de solicitações relacionadas ao licenciamento edilício protocoladas na secretaria;"
   ]
  },
  {
   "cell_type": "code",
   "execution_count": 25,
   "metadata": {},
   "outputs": [],
   "source": [
    "solicit_acumul = []\n",
    "dias_passados = []\n",
    "\n",
    "valor_acumulado = 0\n",
    "for dia, quantidade in zip(protocolacao_assuntos.index, protocolacao_assuntos.values):\n",
    "    \n",
    "    qt_dias = dia - data_public #variavel definida anteriormente\n",
    "    dias_passados.append(qt_dias.days)\n",
    "    \n",
    "    valor_acumulado += quantidade\n",
    "    solicit_acumul.append(valor_acumulado)\n",
    "\n",
    "df_treino = pd.DataFrame(data = zip(dias_passados, solicit_acumul),\n",
    "            columns = ['dias_passados', 'solicitacoes_acumuladas'])"
   ]
  },
  {
   "cell_type": "markdown",
   "metadata": {},
   "source": [
    "Após a construção da nova matriz, a inspecionamos.\n",
    "\n",
    "Em seguida, plotamos a relação entre ambas as dimensões. \n",
    "\n",
    "A inspeção visual permite averiguar que há bastante correlação entre as variáveis, o que é confirmado pelo gráfico de dispersão. Essa correlação linear positiva é esperada, pois as solicitações seguem um padrão sazonal claro (visto anteriormente) e a natureza do problema é cumulativa."
   ]
  },
  {
   "cell_type": "code",
   "execution_count": 26,
   "metadata": {},
   "outputs": [
    {
     "data": {
      "text/html": [
       "<div>\n",
       "<style scoped>\n",
       "    .dataframe tbody tr th:only-of-type {\n",
       "        vertical-align: middle;\n",
       "    }\n",
       "\n",
       "    .dataframe tbody tr th {\n",
       "        vertical-align: top;\n",
       "    }\n",
       "\n",
       "    .dataframe thead th {\n",
       "        text-align: right;\n",
       "    }\n",
       "</style>\n",
       "<table border=\"1\" class=\"dataframe\">\n",
       "  <thead>\n",
       "    <tr style=\"text-align: right;\">\n",
       "      <th></th>\n",
       "      <th>dias_passados</th>\n",
       "      <th>solicitacoes_acumuladas</th>\n",
       "    </tr>\n",
       "  </thead>\n",
       "  <tbody>\n",
       "    <tr>\n",
       "      <td>0</td>\n",
       "      <td>0</td>\n",
       "      <td>47</td>\n",
       "    </tr>\n",
       "    <tr>\n",
       "      <td>1</td>\n",
       "      <td>4</td>\n",
       "      <td>96</td>\n",
       "    </tr>\n",
       "    <tr>\n",
       "      <td>2</td>\n",
       "      <td>5</td>\n",
       "      <td>125</td>\n",
       "    </tr>\n",
       "    <tr>\n",
       "      <td>3</td>\n",
       "      <td>6</td>\n",
       "      <td>159</td>\n",
       "    </tr>\n",
       "    <tr>\n",
       "      <td>4</td>\n",
       "      <td>7</td>\n",
       "      <td>202</td>\n",
       "    </tr>\n",
       "  </tbody>\n",
       "</table>\n",
       "</div>"
      ],
      "text/plain": [
       "   dias_passados  solicitacoes_acumuladas\n",
       "0              0                       47\n",
       "1              4                       96\n",
       "2              5                      125\n",
       "3              6                      159\n",
       "4              7                      202"
      ]
     },
     "execution_count": 26,
     "metadata": {},
     "output_type": "execute_result"
    }
   ],
   "source": [
    "df_treino.head()"
   ]
  },
  {
   "cell_type": "code",
   "execution_count": 27,
   "metadata": {},
   "outputs": [
    {
     "data": {
      "text/plain": [
       "<matplotlib.axes._subplots.AxesSubplot at 0x1f797f7fbc8>"
      ]
     },
     "execution_count": 27,
     "metadata": {},
     "output_type": "execute_result"
    },
    {
     "data": {
      "image/png": "[encoded data removed]",
      "text/plain": [
       "<Figure size 432x288 with 1 Axes>"
      ]
     },
     "metadata": {
      "needs_background": "light"
     },
     "output_type": "display_data"
    }
   ],
   "source": [
    "df_treino.plot(title= 'Relacao entre dias passados e solcitações acumuladas')"
   ]
  },
  {
   "cell_type": "code",
   "execution_count": 28,
   "metadata": {},
   "outputs": [
    {
     "name": "stderr",
     "output_type": "stream",
     "text": [
      "'c' argument looks like a single numeric RGB or RGBA sequence, which should be avoided as value-mapping will have precedence in case its length matches with 'x' & 'y'.  Please use a 2-D array with a single row if you really want to specify the same RGB or RGBA value for all points.\n"
     ]
    },
    {
     "data": {
      "text/plain": [
       "<matplotlib.axes._subplots.AxesSubplot at 0x1f797cb68c8>"
      ]
     },
     "execution_count": 28,
     "metadata": {},
     "output_type": "execute_result"
    },
    {
     "data": {
      "image/png": "[encoded data removed]",
      "text/plain": [
       "<Figure size 432x288 with 1 Axes>"
      ]
     },
     "metadata": {
      "needs_background": "light"
     },
     "output_type": "display_data"
    }
   ],
   "source": [
    "df_treino.plot.scatter('dias_passados', 'solicitacoes_acumuladas', title = 'Dispersão: solicitacoes por dias passados')"
   ]
  },
  {
   "cell_type": "markdown",
   "metadata": {},
   "source": [
    "# Seção 3 - Modelagem\n",
    "\n",
    "As visualizações presentes na seção anterior indicaram haver correlação linear positiva entre ambas as variáveis. Essa correlação é confirmada pela matriz de correlação abaixo:"
   ]
  },
  {
   "cell_type": "code",
   "execution_count": 29,
   "metadata": {},
   "outputs": [
    {
     "data": {
      "text/html": [
       "<div>\n",
       "<style scoped>\n",
       "    .dataframe tbody tr th:only-of-type {\n",
       "        vertical-align: middle;\n",
       "    }\n",
       "\n",
       "    .dataframe tbody tr th {\n",
       "        vertical-align: top;\n",
       "    }\n",
       "\n",
       "    .dataframe thead th {\n",
       "        text-align: right;\n",
       "    }\n",
       "</style>\n",
       "<table border=\"1\" class=\"dataframe\">\n",
       "  <thead>\n",
       "    <tr style=\"text-align: right;\">\n",
       "      <th></th>\n",
       "      <th>dias_passados</th>\n",
       "      <th>solicitacoes_acumuladas</th>\n",
       "    </tr>\n",
       "  </thead>\n",
       "  <tbody>\n",
       "    <tr>\n",
       "      <td>dias_passados</td>\n",
       "      <td>1.0000</td>\n",
       "      <td>0.9989</td>\n",
       "    </tr>\n",
       "    <tr>\n",
       "      <td>solicitacoes_acumuladas</td>\n",
       "      <td>0.9989</td>\n",
       "      <td>1.0000</td>\n",
       "    </tr>\n",
       "  </tbody>\n",
       "</table>\n",
       "</div>"
      ],
      "text/plain": [
       "                         dias_passados  solicitacoes_acumuladas\n",
       "dias_passados                   1.0000                   0.9989\n",
       "solicitacoes_acumuladas         0.9989                   1.0000"
      ]
     },
     "execution_count": 29,
     "metadata": {},
     "output_type": "execute_result"
    }
   ],
   "source": [
    "df_treino.corr()"
   ]
  },
  {
   "cell_type": "markdown",
   "metadata": {},
   "source": [
    "Estas caraterísticas mostram que o problema pode ser adequadamente modelado a partir de uma Regressão Linear Simples.\n",
    "\n",
    "Nas células a seguir, realizamos essa modelagem e apresentamos as informações estatísticas do modelo gerado."
   ]
  },
  {
   "cell_type": "code",
   "execution_count": 30,
   "metadata": {},
   "outputs": [],
   "source": [
    "from statsmodels.api import OLS"
   ]
  },
  {
   "cell_type": "code",
   "execution_count": 31,
   "metadata": {},
   "outputs": [],
   "source": [
    "model = OLS(df_treino.solicitacoes_acumuladas, df_treino.dias_passados)"
   ]
  },
  {
   "cell_type": "code",
   "execution_count": 32,
   "metadata": {},
   "outputs": [],
   "source": [
    "res = model.fit()"
   ]
  },
  {
   "cell_type": "code",
   "execution_count": 33,
   "metadata": {},
   "outputs": [
    {
     "data": {
      "text/html": [
       "<table class=\"simpletable\">\n",
       "<caption>OLS Regression Results</caption>\n",
       "<tr>\n",
       "  <th>Dep. Variable:</th>    <td>solicitacoes_acumuladas</td> <th>  R-squared (uncentered):</th>      <td>   0.999</td> \n",
       "</tr>\n",
       "<tr>\n",
       "  <th>Model:</th>                      <td>OLS</td>           <th>  Adj. R-squared (uncentered):</th> <td>   0.999</td> \n",
       "</tr>\n",
       "<tr>\n",
       "  <th>Method:</th>                <td>Least Squares</td>      <th>  F-statistic:       </th>          <td>1.043e+06</td>\n",
       "</tr>\n",
       "<tr>\n",
       "  <th>Date:</th>                <td>Thu, 23 Jul 2020</td>     <th>  Prob (F-statistic):</th>           <td>  0.00</td>  \n",
       "</tr>\n",
       "<tr>\n",
       "  <th>Time:</th>                    <td>10:58:26</td>         <th>  Log-Likelihood:    </th>          <td> -5471.3</td> \n",
       "</tr>\n",
       "<tr>\n",
       "  <th>No. Observations:</th>         <td>   733</td>          <th>  AIC:               </th>          <td>1.094e+04</td>\n",
       "</tr>\n",
       "<tr>\n",
       "  <th>Df Residuals:</th>             <td>   732</td>          <th>  BIC:               </th>          <td>1.095e+04</td>\n",
       "</tr>\n",
       "<tr>\n",
       "  <th>Df Model:</th>                 <td>     1</td>          <th>                     </th>              <td> </td>    \n",
       "</tr>\n",
       "<tr>\n",
       "  <th>Covariance Type:</th>         <td>nonrobust</td>        <th>                     </th>              <td> </td>    \n",
       "</tr>\n",
       "</table>\n",
       "<table class=\"simpletable\">\n",
       "<tr>\n",
       "        <td></td>           <th>coef</th>     <th>std err</th>      <th>t</th>      <th>P>|t|</th>  <th>[0.025</th>    <th>0.975]</th>  \n",
       "</tr>\n",
       "<tr>\n",
       "  <th>dias_passados</th> <td>   25.2309</td> <td>    0.025</td> <td> 1021.389</td> <td> 0.000</td> <td>   25.182</td> <td>   25.279</td>\n",
       "</tr>\n",
       "</table>\n",
       "<table class=\"simpletable\">\n",
       "<tr>\n",
       "  <th>Omnibus:</th>       <td>25.384</td> <th>  Durbin-Watson:     </th> <td>   0.005</td>\n",
       "</tr>\n",
       "<tr>\n",
       "  <th>Prob(Omnibus):</th> <td> 0.000</td> <th>  Jarque-Bera (JB):  </th> <td>  19.047</td>\n",
       "</tr>\n",
       "<tr>\n",
       "  <th>Skew:</th>          <td> 0.296</td> <th>  Prob(JB):          </th> <td>7.31e-05</td>\n",
       "</tr>\n",
       "<tr>\n",
       "  <th>Kurtosis:</th>      <td> 2.477</td> <th>  Cond. No.          </th> <td>    1.00</td>\n",
       "</tr>\n",
       "</table><br/><br/>Warnings:<br/>[1] Standard Errors assume that the covariance matrix of the errors is correctly specified."
      ],
      "text/plain": [
       "<class 'statsmodels.iolib.summary.Summary'>\n",
       "\"\"\"\n",
       "                                   OLS Regression Results                                   \n",
       "============================================================================================\n",
       "Dep. Variable:     solicitacoes_acumuladas   R-squared (uncentered):                   0.999\n",
       "Model:                                 OLS   Adj. R-squared (uncentered):              0.999\n",
       "Method:                      Least Squares   F-statistic:                          1.043e+06\n",
       "Date:                     Thu, 23 Jul 2020   Prob (F-statistic):                        0.00\n",
       "Time:                             10:58:26   Log-Likelihood:                         -5471.3\n",
       "No. Observations:                      733   AIC:                                  1.094e+04\n",
       "Df Residuals:                          732   BIC:                                  1.095e+04\n",
       "Df Model:                                1                                                  \n",
       "Covariance Type:                 nonrobust                                                  \n",
       "=================================================================================\n",
       "                    coef    std err          t      P>|t|      [0.025      0.975]\n",
       "---------------------------------------------------------------------------------\n",
       "dias_passados    25.2309      0.025   1021.389      0.000      25.182      25.279\n",
       "==============================================================================\n",
       "Omnibus:                       25.384   Durbin-Watson:                   0.005\n",
       "Prob(Omnibus):                  0.000   Jarque-Bera (JB):               19.047\n",
       "Skew:                           0.296   Prob(JB):                     7.31e-05\n",
       "Kurtosis:                       2.477   Cond. No.                         1.00\n",
       "==============================================================================\n",
       "\n",
       "Warnings:\n",
       "[1] Standard Errors assume that the covariance matrix of the errors is correctly specified.\n",
       "\"\"\""
      ]
     },
     "execution_count": 33,
     "metadata": {},
     "output_type": "execute_result"
    }
   ],
   "source": [
    "res.summary()"
   ]
  },
  {
   "cell_type": "markdown",
   "metadata": {},
   "source": [
    "Como era de se espear, pela natureza cumulativa e linear do problema, o modelo teve sucesso.\n",
    "\n",
    "O R-Quadrado é extremamente satisfatório e a variável dependente é estatísticamente significanto, com um erro-padrão baixo e um P-valor menor que 0.005.\n",
    "\n",
    "Abaixo, salvamos o coeficiente Beta, de valor aprox. 25.1 e já apresentado no summary acima, em uma variável \"coef\"."
   ]
  },
  {
   "cell_type": "code",
   "execution_count": 34,
   "metadata": {},
   "outputs": [
    {
     "name": "stdout",
     "output_type": "stream",
     "text": [
      "25.230920835005755\n"
     ]
    }
   ],
   "source": [
    "coef = res.params[0]\n",
    "print(coef)"
   ]
  },
  {
   "cell_type": "markdown",
   "metadata": {},
   "source": [
    "Em conclusão, nosso modelo nos mostra que, para cada dia que se passa, a tendência é que sejam protocoladas 25 novas solicitações relacionadas ao licenciamento edilício em SEL.\n",
    "\n",
    "Notem que esse coeficiente é muito mais robusto do que simplesmente projetar a média de protocolações diárias, que nos levaria a um erro para cima bastante elevado:"
   ]
  },
  {
   "cell_type": "code",
   "execution_count": 35,
   "metadata": {},
   "outputs": [
    {
     "data": {
      "text/plain": [
       "36.22100954979536"
      ]
     },
     "execution_count": 35,
     "metadata": {},
     "output_type": "execute_result"
    }
   ],
   "source": [
    "protocolacao_assuntos.mean()"
   ]
  },
  {
   "cell_type": "markdown",
   "metadata": {},
   "source": []
  },
  {
   "cell_type": "markdown",
   "metadata": {},
   "source": [
    "## Seção 4 - Aplicação do Modelo\n",
    "\n",
    "        Nesta seção aplicaremos o modelo desenvolvido na seção anterior ao nosso problema concreto: a análise de impacto da integração entre o Aprova Digital e o SEI. \n",
    "        \n",
    "        A partir do coeficiente obtido, podemos projetar a taxa de crescimento das solicitações abertas no Aprova Digital no período de um ano. A matriz resultante dessa projeção será então multiplicada por um escalar, correspondente ao tamanho médio, em bytes, dos processos SEI de SEL no Aprova Rápido. Este indicador é um bom proxy para o tamanho que os processos SEI gerados pelo Aprova Digital ocuparão, pois também dizem respeito a processos SEI relacionados ao licenciamento edilício e já possuem uma base histórica considerável. \n",
    "        \n",
    "        Os dados, fornecidos a nós pelo sr. Pedro Luiz Ferreira da Fonseca, servidor de  SEL, são os seguintes:\n",
    "        \n",
    "        * Processos SEI quando protocolados, antes da análise e junções: 47.411.200 bytes em média;\n",
    "        \n",
    "        * Processos SEI após análise e junções: 75.847.680 bytes em média;\n",
    "        \n",
    "        A matriz resultante desta projeção será então subdividida em períodos de 30 dias, gerando uma projeção mensal (e não diária), mais adequada ao planejamento contratual e às formas de gestão de armazenamento utilizadas pela PRODAM, que não dispõe, salvo engano, de servers cloud auto-escaláveis.\n",
    "        \n",
    "        Por fim, voltaremos ao dados de protocolações diárias, para mensurar a quantidade de requisições diária feitas pelo Aprova Digital que pode ser esperada pelo SEI.\n",
    "        "
   ]
  },
  {
   "cell_type": "markdown",
   "metadata": {},
   "source": [
    "Abaixo construímos um array (ou matriz 1 x n) com 365 itens, de 0 a 364, que corresponde à quantidade de dias passados em um ano.\n",
    "\n",
    "O array precisa começar em 0 pois nosso modelo teve como variável dependente os \"dias passados desde a publicação do novo código de obras\". Nesta projeção, o evento inicial, sobre o qual se conta quantos dias se passaram, pode ser considerado o lançamento do Aprova Digital.\n"
   ]
  },
  {
   "cell_type": "code",
   "execution_count": 36,
   "metadata": {},
   "outputs": [],
   "source": [
    "dias_passados_lançamento = [i for i in range(365)]"
   ]
  },
  {
   "cell_type": "markdown",
   "metadata": {},
   "source": [
    "Agora, criamos uma nova matriz 3 x 365, que contém como colunas as seguintes variáveis:\n",
    "\n",
    "    1. Dias passados desde o lançamento do Aprova Digital;\n",
    "    2. Projeção, em bytes, da volumetria de processos considerando apenas a protocolação inicial;\n",
    "    3. Projeção, em bytes, da volumetria de processos considerando a subida ao SEI das junções e análise;\n",
    "    \n"
   ]
  },
  {
   "cell_type": "code",
   "execution_count": 37,
   "metadata": {},
   "outputs": [
    {
     "data": {
      "text/html": [
       "<div>\n",
       "<style scoped>\n",
       "    .dataframe tbody tr th:only-of-type {\n",
       "        vertical-align: middle;\n",
       "    }\n",
       "\n",
       "    .dataframe tbody tr th {\n",
       "        vertical-align: top;\n",
       "    }\n",
       "\n",
       "    .dataframe thead th {\n",
       "        text-align: right;\n",
       "    }\n",
       "</style>\n",
       "<table border=\"1\" class=\"dataframe\">\n",
       "  <thead>\n",
       "    <tr style=\"text-align: right;\">\n",
       "      <th></th>\n",
       "      <th>dias_passados_lançamento</th>\n",
       "      <th>tamanho_medio_inicial</th>\n",
       "      <th>tamanho_medio_apos_analise</th>\n",
       "    </tr>\n",
       "  </thead>\n",
       "  <tbody>\n",
       "    <tr>\n",
       "      <td>0</td>\n",
       "      <td>0</td>\n",
       "      <td>0.000000e+00</td>\n",
       "      <td>0.000000e+00</td>\n",
       "    </tr>\n",
       "    <tr>\n",
       "      <td>1</td>\n",
       "      <td>1</td>\n",
       "      <td>1.196228e+09</td>\n",
       "      <td>1.913707e+09</td>\n",
       "    </tr>\n",
       "    <tr>\n",
       "      <td>2</td>\n",
       "      <td>2</td>\n",
       "      <td>2.392456e+09</td>\n",
       "      <td>3.827414e+09</td>\n",
       "    </tr>\n",
       "    <tr>\n",
       "      <td>3</td>\n",
       "      <td>3</td>\n",
       "      <td>3.588685e+09</td>\n",
       "      <td>5.741120e+09</td>\n",
       "    </tr>\n",
       "    <tr>\n",
       "      <td>4</td>\n",
       "      <td>4</td>\n",
       "      <td>4.784913e+09</td>\n",
       "      <td>7.654827e+09</td>\n",
       "    </tr>\n",
       "  </tbody>\n",
       "</table>\n",
       "</div>"
      ],
      "text/plain": [
       "   dias_passados_lançamento  tamanho_medio_inicial  tamanho_medio_apos_analise\n",
       "0                         0           0.000000e+00                0.000000e+00\n",
       "1                         1           1.196228e+09                1.913707e+09\n",
       "2                         2           2.392456e+09                3.827414e+09\n",
       "3                         3           3.588685e+09                5.741120e+09\n",
       "4                         4           4.784913e+09                7.654827e+09"
      ]
     },
     "execution_count": 37,
     "metadata": {},
     "output_type": "execute_result"
    }
   ],
   "source": [
    "tamanho_medio_inicial = 47411200\n",
    "tamamho_medio_apos_analise = 75847680\n",
    "\n",
    "matriz = {\n",
    "    'dias_passados_lançamento' : [],\n",
    "    'tamanho_medio_inicial' : [],\n",
    "    'tamanho_medio_apos_analise' : []\n",
    "}\n",
    "\n",
    "for dias in dias_passados_lançamento:\n",
    "    \n",
    "    t_inicial = (coef * dias) * tamanho_medio_inicial\n",
    "    t_analise = coef * dias * tamamho_medio_apos_analise\n",
    "    \n",
    "    matriz['dias_passados_lançamento'].append(dias)\n",
    "    matriz['tamanho_medio_inicial'].append(t_inicial)\n",
    "    matriz['tamanho_medio_apos_analise'].append(t_analise)\n",
    "    \n",
    "projecao_volumetria = pd.DataFrame(matriz)\n",
    "\n",
    "projecao_volumetria.head()"
   ]
  },
  {
   "cell_type": "markdown",
   "metadata": {},
   "source": [
    "Para facilitar a gestão, utilizaremos a quantidade em gigabytes."
   ]
  },
  {
   "cell_type": "code",
   "execution_count": 38,
   "metadata": {},
   "outputs": [],
   "source": [
    "gigabyte_to_byte = 1024**3"
   ]
  },
  {
   "cell_type": "code",
   "execution_count": 39,
   "metadata": {},
   "outputs": [],
   "source": [
    "projecao_volumetria['tamanho_medio_inicial_GB'] = projecao_volumetria['tamanho_medio_inicial']/gigabyte_to_byte\n",
    "projecao_volumetria['tamanho_medio_apos_analise_GB'] = projecao_volumetria['tamanho_medio_apos_analise']/gigabyte_to_byte"
   ]
  },
  {
   "cell_type": "code",
   "execution_count": 40,
   "metadata": {},
   "outputs": [
    {
     "data": {
      "text/html": [
       "<div>\n",
       "<style scoped>\n",
       "    .dataframe tbody tr th:only-of-type {\n",
       "        vertical-align: middle;\n",
       "    }\n",
       "\n",
       "    .dataframe tbody tr th {\n",
       "        vertical-align: top;\n",
       "    }\n",
       "\n",
       "    .dataframe thead th {\n",
       "        text-align: right;\n",
       "    }\n",
       "</style>\n",
       "<table border=\"1\" class=\"dataframe\">\n",
       "  <thead>\n",
       "    <tr style=\"text-align: right;\">\n",
       "      <th></th>\n",
       "      <th>dias_passados_lançamento</th>\n",
       "      <th>tamanho_medio_inicial</th>\n",
       "      <th>tamanho_medio_apos_analise</th>\n",
       "      <th>tamanho_medio_inicial_GB</th>\n",
       "      <th>tamanho_medio_apos_analise_GB</th>\n",
       "    </tr>\n",
       "  </thead>\n",
       "  <tbody>\n",
       "    <tr>\n",
       "      <td>0</td>\n",
       "      <td>0</td>\n",
       "      <td>0.000000e+00</td>\n",
       "      <td>0.000000e+00</td>\n",
       "      <td>0.000000</td>\n",
       "      <td>0.000000</td>\n",
       "    </tr>\n",
       "    <tr>\n",
       "      <td>1</td>\n",
       "      <td>1</td>\n",
       "      <td>1.196228e+09</td>\n",
       "      <td>1.913707e+09</td>\n",
       "      <td>1.114074</td>\n",
       "      <td>1.782278</td>\n",
       "    </tr>\n",
       "    <tr>\n",
       "      <td>2</td>\n",
       "      <td>2</td>\n",
       "      <td>2.392456e+09</td>\n",
       "      <td>3.827414e+09</td>\n",
       "      <td>2.228149</td>\n",
       "      <td>3.564557</td>\n",
       "    </tr>\n",
       "    <tr>\n",
       "      <td>3</td>\n",
       "      <td>3</td>\n",
       "      <td>3.588685e+09</td>\n",
       "      <td>5.741120e+09</td>\n",
       "      <td>3.342223</td>\n",
       "      <td>5.346835</td>\n",
       "    </tr>\n",
       "    <tr>\n",
       "      <td>4</td>\n",
       "      <td>4</td>\n",
       "      <td>4.784913e+09</td>\n",
       "      <td>7.654827e+09</td>\n",
       "      <td>4.456297</td>\n",
       "      <td>7.129113</td>\n",
       "    </tr>\n",
       "  </tbody>\n",
       "</table>\n",
       "</div>"
      ],
      "text/plain": [
       "   dias_passados_lançamento  tamanho_medio_inicial  \\\n",
       "0                         0           0.000000e+00   \n",
       "1                         1           1.196228e+09   \n",
       "2                         2           2.392456e+09   \n",
       "3                         3           3.588685e+09   \n",
       "4                         4           4.784913e+09   \n",
       "\n",
       "   tamanho_medio_apos_analise  tamanho_medio_inicial_GB  \\\n",
       "0                0.000000e+00                  0.000000   \n",
       "1                1.913707e+09                  1.114074   \n",
       "2                3.827414e+09                  2.228149   \n",
       "3                5.741120e+09                  3.342223   \n",
       "4                7.654827e+09                  4.456297   \n",
       "\n",
       "   tamanho_medio_apos_analise_GB  \n",
       "0                       0.000000  \n",
       "1                       1.782278  \n",
       "2                       3.564557  \n",
       "3                       5.346835  \n",
       "4                       7.129113  "
      ]
     },
     "execution_count": 40,
     "metadata": {},
     "output_type": "execute_result"
    }
   ],
   "source": [
    "projecao_volumetria.head()"
   ]
  },
  {
   "cell_type": "markdown",
   "metadata": {},
   "source": [
    "Agora, selecionamos os períodos de 30 em 30 dias. A projeção final "
   ]
  },
  {
   "cell_type": "code",
   "execution_count": 41,
   "metadata": {},
   "outputs": [],
   "source": [
    "fim_30_dias = [i for i in range(30, 365, 30)]\n",
    "\n",
    "projecao_volumetria_mes = projecao_volumetria.iloc[fim_30_dias]"
   ]
  },
  {
   "cell_type": "markdown",
   "metadata": {},
   "source": [
    "Geramos então o arquivo final de projecao, contendo apenas as colunas de dias passados desde o lançamento e as projeções em GB.\n",
    "\n",
    "E, por fim, plotamos as linhas de tendência."
   ]
  },
  {
   "cell_type": "code",
   "execution_count": 42,
   "metadata": {},
   "outputs": [
    {
     "data": {
      "text/plain": [
       "<matplotlib.axes._subplots.AxesSubplot at 0x1f7975e7948>"
      ]
     },
     "execution_count": 42,
     "metadata": {},
     "output_type": "execute_result"
    },
    {
     "data": {
      "image/png": "[encoded data removed]",
      "text/plain": [
       "<Figure size 432x288 with 1 Axes>"
      ]
     },
     "metadata": {
      "needs_background": "light"
     },
     "output_type": "display_data"
    }
   ],
   "source": [
    "projecao_volumetria_mes_gb = projecao_volumetria_mes[['dias_passados_lançamento', 'tamanho_medio_inicial_GB', \n",
    "                                                      'tamanho_medio_apos_analise_GB']]\n",
    "\n",
    "projecao_volumetria_mes_gb.plot(title = 'Projecao Volumetria em GB')"
   ]
  },
  {
   "cell_type": "code",
   "execution_count": 43,
   "metadata": {},
   "outputs": [],
   "source": [
    "projecao_volumetria_mes_gb.to_excel('Projecao_Volumetria_Aprova_SEI_H_Pougy.xlsx') #aqui salvamos o arquivo final com a projeção"
   ]
  },
  {
   "cell_type": "markdown",
   "metadata": {},
   "source": [
    "#### Quantidade de requisições\n",
    "\n",
    "Agora retornaremos aos dados de protocolações diárias para mensurar a quantidade de requisições.\n",
    "\n",
    "O Aprova Digital está configurado para criar um processo SEI contendo os dados da solicitação feita pelo munícipe/interessado, registrando-os no sistema de processo administrativo eletrônico oficial do município.\n",
    "\n",
    "Desse modo, podemos utilizar o mesmo padrão de solicitações recebido por SEL ao longo dos últimos 4 anos para gerar essa previsão.\n",
    "\n",
    "Retornamos ao gráfico apresentado na análise exploratória:"
   ]
  },
  {
   "cell_type": "code",
   "execution_count": 44,
   "metadata": {},
   "outputs": [
    {
     "data": {
      "text/plain": [
       "<matplotlib.axes._subplots.AxesSubplot at 0x1f798678f88>"
      ]
     },
     "execution_count": 44,
     "metadata": {},
     "output_type": "execute_result"
    },
    {
     "data": {
      "image/png": "[encoded data removed]",
      "text/plain": [
       "<Figure size 432x288 with 1 Axes>"
      ]
     },
     "metadata": {
      "needs_background": "light"
     },
     "output_type": "display_data"
    }
   ],
   "source": [
    "protocolacao_assuntos.plot(title = 'Solicitações Protocoladas por Dia')"
   ]
  },
  {
   "cell_type": "markdown",
   "metadata": {},
   "source": [
    "Como vimos anteriormente, esses dados apresentam clara sazonalidade e se mantém em uma linha de tendência estável (caso contrário, nosso modelo de crescimento lienar não teria tido boa performance). Há, no entanto, alguns outliers, um deles bastante evidente, já singularizado anteriormente.\n",
    "\n",
    "Uma boa maneira de visualizar essa situação é o boxplot."
   ]
  },
  {
   "cell_type": "code",
   "execution_count": 45,
   "metadata": {},
   "outputs": [
    {
     "data": {
      "text/plain": [
       "Text(0.5, 1.0, 'Boxplot - Protocolações Diárias')"
      ]
     },
     "execution_count": 45,
     "metadata": {},
     "output_type": "execute_result"
    },
    {
     "data": {
      "image/png": "[encoded data removed]",
      "text/plain": [
       "<Figure size 432x288 with 1 Axes>"
      ]
     },
     "metadata": {
      "needs_background": "light"
     },
     "output_type": "display_data"
    }
   ],
   "source": [
    "sns.boxplot(protocolacao_assuntos, showmeans=True, orient = 'h').set_title('Boxplot - Protocolações Diárias')"
   ]
  },
  {
   "cell_type": "markdown",
   "metadata": {},
   "source": [
    "O boxplot mostra então o mesmo padrão de variação que vemos nos dados brutos: variando entre 70 e menos que 10 solicitações, com uma média em torno de 40 solicitações por dia.\n",
    "\n",
    "Como vemos abaixo, a distribuição se assemelha de fato a uma distribuição normal:"
   ]
  },
  {
   "cell_type": "code",
   "execution_count": 46,
   "metadata": {},
   "outputs": [
    {
     "data": {
      "text/plain": [
       "Text(0.5, 1.0, 'Distribuição - protocolações diárias')"
      ]
     },
     "execution_count": 46,
     "metadata": {},
     "output_type": "execute_result"
    },
    {
     "data": {
      "image/png": "[encoded data removed]",
      "text/plain": [
       "<Figure size 432x288 with 1 Axes>"
      ]
     },
     "metadata": {
      "needs_background": "light"
     },
     "output_type": "display_data"
    }
   ],
   "source": [
    "sns.distplot(protocolacao_assuntos).set_title('Distribuição - protocolações diárias')"
   ]
  },
  {
   "cell_type": "markdown",
   "metadata": {},
   "source": [
    "Abaixo realizamos um teste de normalidade para validar essa hipótese.\n",
    "\n",
    "Com um bom p-valor (<0.005), podemos rejeitar a hipótese nula (de que a distribuição não é normal) com extrema significância estatística."
   ]
  },
  {
   "cell_type": "code",
   "execution_count": 47,
   "metadata": {},
   "outputs": [],
   "source": [
    "from scipy.stats import normaltest"
   ]
  },
  {
   "cell_type": "code",
   "execution_count": 48,
   "metadata": {},
   "outputs": [
    {
     "name": "stdout",
     "output_type": "stream",
     "text": [
      "NormaltestResult(statistic=10.746898934221639, pvalue=0.004638104694931779)\n"
     ]
    }
   ],
   "source": [
    "print(normaltest(protocolacao_assuntos))"
   ]
  },
  {
   "cell_type": "markdown",
   "metadata": {},
   "source": [
    "Deste modo, justifica-se o uso de estatísticas descritivas simples para realizar a projeção.\n",
    "\n",
    "Abaixo, visualizamos essas estatísticas."
   ]
  },
  {
   "cell_type": "code",
   "execution_count": 49,
   "metadata": {},
   "outputs": [],
   "source": [
    "desc = pd.DataFrame(protocolacao_assuntos.describe())"
   ]
  },
  {
   "cell_type": "code",
   "execution_count": 50,
   "metadata": {},
   "outputs": [
    {
     "data": {
      "text/html": [
       "<div>\n",
       "<style scoped>\n",
       "    .dataframe tbody tr th:only-of-type {\n",
       "        vertical-align: middle;\n",
       "    }\n",
       "\n",
       "    .dataframe tbody tr th {\n",
       "        vertical-align: top;\n",
       "    }\n",
       "\n",
       "    .dataframe thead th {\n",
       "        text-align: right;\n",
       "    }\n",
       "</style>\n",
       "<table border=\"1\" class=\"dataframe\">\n",
       "  <thead>\n",
       "    <tr style=\"text-align: right;\">\n",
       "      <th></th>\n",
       "      <th>quantidade</th>\n",
       "    </tr>\n",
       "  </thead>\n",
       "  <tbody>\n",
       "    <tr>\n",
       "      <td>count</td>\n",
       "      <td>733.000000</td>\n",
       "    </tr>\n",
       "    <tr>\n",
       "      <td>mean</td>\n",
       "      <td>36.221010</td>\n",
       "    </tr>\n",
       "    <tr>\n",
       "      <td>std</td>\n",
       "      <td>13.645502</td>\n",
       "    </tr>\n",
       "    <tr>\n",
       "      <td>min</td>\n",
       "      <td>1.000000</td>\n",
       "    </tr>\n",
       "    <tr>\n",
       "      <td>25%</td>\n",
       "      <td>29.000000</td>\n",
       "    </tr>\n",
       "    <tr>\n",
       "      <td>50%</td>\n",
       "      <td>36.000000</td>\n",
       "    </tr>\n",
       "    <tr>\n",
       "      <td>75%</td>\n",
       "      <td>45.000000</td>\n",
       "    </tr>\n",
       "    <tr>\n",
       "      <td>max</td>\n",
       "      <td>105.000000</td>\n",
       "    </tr>\n",
       "  </tbody>\n",
       "</table>\n",
       "</div>"
      ],
      "text/plain": [
       "       quantidade\n",
       "count  733.000000\n",
       "mean    36.221010\n",
       "std     13.645502\n",
       "min      1.000000\n",
       "25%     29.000000\n",
       "50%     36.000000\n",
       "75%     45.000000\n",
       "max    105.000000"
      ]
     },
     "execution_count": 50,
     "metadata": {},
     "output_type": "execute_result"
    }
   ],
   "source": [
    "desc"
   ]
  },
  {
   "cell_type": "markdown",
   "metadata": {},
   "source": [
    "Para parametrizar o balanceamento de carga, achamos mais adequado utilizar as medidas de média, 1º quartil, 3º quartil e máxima.\n",
    "\n",
    "A elas, acrescentamos também a mediana, que é bem próxima da média.\n",
    "\n",
    "Geramos mais um arquivo com esses dados e finalizamos esse report."
   ]
  },
  {
   "cell_type": "code",
   "execution_count": 51,
   "metadata": {},
   "outputs": [],
   "source": [
    "quantidade_de_requisicoes = desc.loc[['mean', '25%', '75%', 'max']].rename({'quantidade' : 'Quantidade de Requisições'}, axis = 1).rename({'mean' : 'média'})"
   ]
  },
  {
   "cell_type": "code",
   "execution_count": 52,
   "metadata": {},
   "outputs": [],
   "source": [
    "mediana  = protocolacao_assuntos.median()"
   ]
  },
  {
   "cell_type": "code",
   "execution_count": 53,
   "metadata": {},
   "outputs": [],
   "source": [
    "quantidade_de_requisicoes.loc['mediana'] = mediana"
   ]
  },
  {
   "cell_type": "code",
   "execution_count": 54,
   "metadata": {},
   "outputs": [
    {
     "data": {
      "text/html": [
       "<div>\n",
       "<style scoped>\n",
       "    .dataframe tbody tr th:only-of-type {\n",
       "        vertical-align: middle;\n",
       "    }\n",
       "\n",
       "    .dataframe tbody tr th {\n",
       "        vertical-align: top;\n",
       "    }\n",
       "\n",
       "    .dataframe thead th {\n",
       "        text-align: right;\n",
       "    }\n",
       "</style>\n",
       "<table border=\"1\" class=\"dataframe\">\n",
       "  <thead>\n",
       "    <tr style=\"text-align: right;\">\n",
       "      <th></th>\n",
       "      <th>Quantidade de Requisições</th>\n",
       "    </tr>\n",
       "  </thead>\n",
       "  <tbody>\n",
       "    <tr>\n",
       "      <td>média</td>\n",
       "      <td>36.22101</td>\n",
       "    </tr>\n",
       "    <tr>\n",
       "      <td>25%</td>\n",
       "      <td>29.00000</td>\n",
       "    </tr>\n",
       "    <tr>\n",
       "      <td>75%</td>\n",
       "      <td>45.00000</td>\n",
       "    </tr>\n",
       "    <tr>\n",
       "      <td>max</td>\n",
       "      <td>105.00000</td>\n",
       "    </tr>\n",
       "    <tr>\n",
       "      <td>mediana</td>\n",
       "      <td>36.00000</td>\n",
       "    </tr>\n",
       "  </tbody>\n",
       "</table>\n",
       "</div>"
      ],
      "text/plain": [
       "         Quantidade de Requisições\n",
       "média                     36.22101\n",
       "25%                       29.00000\n",
       "75%                       45.00000\n",
       "max                      105.00000\n",
       "mediana                   36.00000"
      ]
     },
     "execution_count": 54,
     "metadata": {},
     "output_type": "execute_result"
    }
   ],
   "source": [
    "quantidade_de_requisicoes"
   ]
  },
  {
   "cell_type": "code",
   "execution_count": 56,
   "metadata": {},
   "outputs": [],
   "source": [
    "quantidade_de_requisicoes.to_excel('Previsao_Quantidade_Requisicoes.xlsx')"
   ]
  },
  {
   "cell_type": "code",
   "execution_count": null,
   "metadata": {},
   "outputs": [],
   "source": []
  }
 ],
 "metadata": {
  "kernelspec": {
   "display_name": "Python 3",
   "language": "python",
   "name": "python3"
  },
  "language_info": {
   "codemirror_mode": {
    "name": "ipython",
    "version": 3
   },
   "file_extension": ".py",
   "mimetype": "text/x-python",
   "name": "python",
   "nbconvert_exporter": "python",
   "pygments_lexer": "ipython3",
   "version": "3.7.4"
  }
 },
 "nbformat": 4,
 "nbformat_minor": 4
}
